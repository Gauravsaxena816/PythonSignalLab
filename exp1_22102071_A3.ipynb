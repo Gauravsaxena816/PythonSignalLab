{
  "nbformat": 4,
  "nbformat_minor": 0,
  "metadata": {
    "colab": {
      "provenance": []
    },
    "kernelspec": {
      "name": "python3",
      "display_name": "Python 3"
    },
    "language_info": {
      "name": "python"
    }
  },
  "cells": [
    {
      "cell_type": "markdown",
      "source": [
        "### EXPERIMENT 1\n",
        "Objective : Introduction to `Python` and its `various applications`"
      ],
      "metadata": {
        "id": "8MrN1soWdhMN"
      }
    },
    {
      "cell_type": "code",
      "execution_count": null,
      "metadata": {
        "id": "iHo7tvbqWFmc"
      },
      "outputs": [],
      "source": [
        "import numpy as np\n",
        "import pandas as pf\n",
        "import matplotlib.pyplot as plt\n",
        "from scipy import sparse"
      ]
    },
    {
      "cell_type": "code",
      "source": [
        "vector_row=np.array([1,2,3])\n",
        "print(vector_row)\n"
      ],
      "metadata": {
        "colab": {
          "base_uri": "https://localhost:8080/"
        },
        "id": "lrxs49ThWWz1",
        "outputId": "366c85fb-0b0d-42ae-cf7a-0d42dc6f8960"
      },
      "execution_count": null,
      "outputs": [
        {
          "output_type": "stream",
          "name": "stdout",
          "text": [
            "[1 2 3]\n"
          ]
        }
      ]
    },
    {
      "cell_type": "code",
      "source": [
        "vector_column=np.array([[1],[2],[3]])\n",
        "print(vector_column)"
      ],
      "metadata": {
        "colab": {
          "base_uri": "https://localhost:8080/"
        },
        "id": "I4eJPsfYXPtM",
        "outputId": "7a1f0f9e-5f3e-43af-bb1a-25328db7da47"
      },
      "execution_count": null,
      "outputs": [
        {
          "output_type": "stream",
          "name": "stdout",
          "text": [
            "[[1]\n",
            " [2]\n",
            " [3]]\n"
          ]
        }
      ]
    },
    {
      "cell_type": "code",
      "source": [
        "### creating a matrix\n",
        "matrix = np.array([[1,2,23],[3,4,5]])\n",
        "matrix"
      ],
      "metadata": {
        "colab": {
          "base_uri": "https://localhost:8080/"
        },
        "id": "63DBif3lXf4L",
        "outputId": "f15ebd1f-1f27-487a-e4c8-2ebc5ddbb5c6"
      },
      "execution_count": null,
      "outputs": [
        {
          "output_type": "execute_result",
          "data": {
            "text/plain": [
              "array([[ 1,  2, 23],\n",
              "       [ 3,  4,  5]])"
            ]
          },
          "metadata": {},
          "execution_count": 6
        }
      ]
    },
    {
      "cell_type": "code",
      "source": [
        "### creating a sparse matrix\n",
        "matrix_sparse = sparse.csr_matrix(matrix)\n",
        "print(matrix)"
      ],
      "metadata": {
        "colab": {
          "base_uri": "https://localhost:8080/"
        },
        "id": "4tS9x3q2X_WZ",
        "outputId": "17bccb37-5be7-4c6b-e5c9-578a400e4a41"
      },
      "execution_count": null,
      "outputs": [
        {
          "output_type": "stream",
          "name": "stdout",
          "text": [
            "[[ 1  2 23]\n",
            " [ 3  4  5]]\n"
          ]
        }
      ]
    },
    {
      "cell_type": "code",
      "source": [
        "# create a large matrix\n",
        "mat1 = np.array([[1,2,2,2,1,1,12,21,3,2],[1,1,1,1,1,1,1,1,1,1]])\n",
        "mat1\n",
        "spa = sparse.csr_matrix(mat1)\n",
        "spa"
      ],
      "metadata": {
        "colab": {
          "base_uri": "https://localhost:8080/"
        },
        "id": "Kp65ddNZZHgS",
        "outputId": "ec17843a-2091-470b-97ed-3e0bf2498aa9"
      },
      "execution_count": null,
      "outputs": [
        {
          "output_type": "execute_result",
          "data": {
            "text/plain": [
              "<2x10 sparse matrix of type '<class 'numpy.int64'>'\n",
              "\twith 20 stored elements in Compressed Sparse Row format>"
            ]
          },
          "metadata": {},
          "execution_count": 8
        }
      ]
    },
    {
      "cell_type": "code",
      "source": [
        "#create a new array\n",
        "vector = np.array([1,22,1,212,2,121,231,1,1])"
      ],
      "metadata": {
        "id": "DdoKjXAdZrYt"
      },
      "execution_count": null,
      "outputs": []
    },
    {
      "cell_type": "code",
      "source": [
        "vector.size"
      ],
      "metadata": {
        "colab": {
          "base_uri": "https://localhost:8080/"
        },
        "id": "FaCqG7TsaTpF",
        "outputId": "fad48895-1ba8-41ee-de01-5663b2079d36"
      },
      "execution_count": null,
      "outputs": [
        {
          "output_type": "execute_result",
          "data": {
            "text/plain": [
              "9"
            ]
          },
          "metadata": {},
          "execution_count": 10
        }
      ]
    },
    {
      "cell_type": "code",
      "source": [
        "vector.ndim"
      ],
      "metadata": {
        "colab": {
          "base_uri": "https://localhost:8080/"
        },
        "id": "oSS1QoCpaU_c",
        "outputId": "6651262f-5e6a-477b-c9a7-bf08fa01229c"
      },
      "execution_count": null,
      "outputs": [
        {
          "output_type": "execute_result",
          "data": {
            "text/plain": [
              "1"
            ]
          },
          "metadata": {},
          "execution_count": 11
        }
      ]
    },
    {
      "cell_type": "code",
      "source": [
        "vector.shape"
      ],
      "metadata": {
        "colab": {
          "base_uri": "https://localhost:8080/"
        },
        "id": "XT96fvMSaW7T",
        "outputId": "b6459461-93c8-4bbc-ce9a-3e3fa70d2ebe"
      },
      "execution_count": null,
      "outputs": [
        {
          "output_type": "execute_result",
          "data": {
            "text/plain": [
              "(9,)"
            ]
          },
          "metadata": {},
          "execution_count": 12
        }
      ]
    },
    {
      "cell_type": "code",
      "source": [
        "vector[::]"
      ],
      "metadata": {
        "colab": {
          "base_uri": "https://localhost:8080/"
        },
        "id": "uKAE9GtdaZNa",
        "outputId": "c7b3535f-68a0-44f2-a0e9-f6e4e8ddb6e5"
      },
      "execution_count": null,
      "outputs": [
        {
          "output_type": "execute_result",
          "data": {
            "text/plain": [
              "array([  1,  22,   1, 212,   2, 121, 231,   1,   1])"
            ]
          },
          "metadata": {},
          "execution_count": 13
        }
      ]
    },
    {
      "cell_type": "code",
      "source": [
        "vector[::-1]"
      ],
      "metadata": {
        "colab": {
          "base_uri": "https://localhost:8080/"
        },
        "id": "cV_3rNO7ab1J",
        "outputId": "dbe2c1f5-6720-4a25-a65e-4b1e802764eb"
      },
      "execution_count": null,
      "outputs": [
        {
          "output_type": "execute_result",
          "data": {
            "text/plain": [
              "array([  1,   1, 231, 121,   2, 212,   1,  22,   1])"
            ]
          },
          "metadata": {},
          "execution_count": 14
        }
      ]
    },
    {
      "cell_type": "code",
      "source": [
        "vector[1:4]"
      ],
      "metadata": {
        "colab": {
          "base_uri": "https://localhost:8080/"
        },
        "id": "ordrJQLFafN6",
        "outputId": "2e73ce22-5d8b-4a1c-9dda-94ccd62d342a"
      },
      "execution_count": null,
      "outputs": [
        {
          "output_type": "execute_result",
          "data": {
            "text/plain": [
              "array([ 22,   1, 212])"
            ]
          },
          "metadata": {},
          "execution_count": 15
        }
      ]
    },
    {
      "cell_type": "code",
      "source": [
        "vector.std()"
      ],
      "metadata": {
        "colab": {
          "base_uri": "https://localhost:8080/"
        },
        "id": "og7OlvSTgckt",
        "outputId": "8900116f-ad33-4068-ecb6-198c520aa9b5"
      },
      "execution_count": null,
      "outputs": [
        {
          "output_type": "execute_result",
          "data": {
            "text/plain": [
              "90.98080112221209"
            ]
          },
          "metadata": {},
          "execution_count": 34
        }
      ]
    },
    {
      "cell_type": "code",
      "source": [
        "# calculating mean\n",
        "vector.mean()\n"
      ],
      "metadata": {
        "colab": {
          "base_uri": "https://localhost:8080/"
        },
        "id": "2Zk-ebB4apQd",
        "outputId": "dc4dc246-2d64-4e49-e18e-74b476352abe"
      },
      "execution_count": null,
      "outputs": [
        {
          "output_type": "execute_result",
          "data": {
            "text/plain": [
              "65.77777777777777"
            ]
          },
          "metadata": {},
          "execution_count": 16
        }
      ]
    },
    {
      "cell_type": "code",
      "source": [
        "np.average(vector)"
      ],
      "metadata": {
        "colab": {
          "base_uri": "https://localhost:8080/"
        },
        "id": "EMFsKcz-ghvr",
        "outputId": "3b0615f8-786d-4ced-8a44-6a84bc868843"
      },
      "execution_count": null,
      "outputs": [
        {
          "output_type": "execute_result",
          "data": {
            "text/plain": [
              "65.77777777777777"
            ]
          },
          "metadata": {},
          "execution_count": 36
        }
      ]
    },
    {
      "cell_type": "code",
      "source": [
        "vector.var()"
      ],
      "metadata": {
        "colab": {
          "base_uri": "https://localhost:8080/"
        },
        "id": "2S1P7vrPf_2B",
        "outputId": "1639afa9-de14-4d8b-f219-1608b0f8c0ae"
      },
      "execution_count": null,
      "outputs": [
        {
          "output_type": "execute_result",
          "data": {
            "text/plain": [
              "8277.506172839507"
            ]
          },
          "metadata": {},
          "execution_count": 33
        }
      ]
    },
    {
      "cell_type": "code",
      "source": [
        "# calulating sum\n",
        "vector.sum()"
      ],
      "metadata": {
        "colab": {
          "base_uri": "https://localhost:8080/"
        },
        "id": "8YrfS6o0awjL",
        "outputId": "a7dca30c-7b25-4cf8-b5c8-b1a04d2139b9"
      },
      "execution_count": null,
      "outputs": [
        {
          "output_type": "execute_result",
          "data": {
            "text/plain": [
              "592"
            ]
          },
          "metadata": {},
          "execution_count": 17
        }
      ]
    },
    {
      "cell_type": "code",
      "source": [
        "# finding maximum number\n",
        "np.max(vector)"
      ],
      "metadata": {
        "colab": {
          "base_uri": "https://localhost:8080/"
        },
        "id": "EwGvfHtAa5yZ",
        "outputId": "2043dc05-c351-4506-940a-f192569eb8d5"
      },
      "execution_count": null,
      "outputs": [
        {
          "output_type": "execute_result",
          "data": {
            "text/plain": [
              "231"
            ]
          },
          "metadata": {},
          "execution_count": 18
        }
      ]
    },
    {
      "cell_type": "code",
      "source": [
        "#calculating variance\n",
        "var = np.mean(abs(vector - vector.mean())**2)\n",
        "var"
      ],
      "metadata": {
        "colab": {
          "base_uri": "https://localhost:8080/"
        },
        "id": "ZRmb97kobEsm",
        "outputId": "8bec44cc-eb99-4504-be3d-759b4bcf778c"
      },
      "execution_count": null,
      "outputs": [
        {
          "output_type": "execute_result",
          "data": {
            "text/plain": [
              "8277.506172839507"
            ]
          },
          "metadata": {},
          "execution_count": 19
        }
      ]
    },
    {
      "cell_type": "code",
      "source": [
        "# add 1000 to matrix\n",
        "add_1000 = lambda i : i + 1000\n",
        "vecadd1000 = np.vectorize(add_1000)\n",
        "vecadd1000(vector)"
      ],
      "metadata": {
        "colab": {
          "base_uri": "https://localhost:8080/"
        },
        "id": "GqoWqRzJcMwW",
        "outputId": "d7db4dab-0775-4182-ad7f-38d4280e630b"
      },
      "execution_count": null,
      "outputs": [
        {
          "output_type": "execute_result",
          "data": {
            "text/plain": [
              "array([1001, 1022, 1001, 1212, 1002, 1121, 1231, 1001, 1001])"
            ]
          },
          "metadata": {},
          "execution_count": 20
        }
      ]
    },
    {
      "cell_type": "code",
      "source": [
        "#creatng a matrix\n",
        "matrix2 = np.array([[1,2,3],[4,5,6],[7,8,9],[10,11,12]])\n",
        "matrix2"
      ],
      "metadata": {
        "colab": {
          "base_uri": "https://localhost:8080/"
        },
        "id": "YhljCT9gb7-3",
        "outputId": "8243099f-baf9-4e37-fe27-13aed79f965c"
      },
      "execution_count": null,
      "outputs": [
        {
          "output_type": "execute_result",
          "data": {
            "text/plain": [
              "array([[ 1,  2,  3],\n",
              "       [ 4,  5,  6],\n",
              "       [ 7,  8,  9],\n",
              "       [10, 11, 12]])"
            ]
          },
          "metadata": {},
          "execution_count": 21
        }
      ]
    },
    {
      "cell_type": "code",
      "source": [
        "matrix2.reshape(2,6)"
      ],
      "metadata": {
        "colab": {
          "base_uri": "https://localhost:8080/"
        },
        "id": "MFi8AKfvbdFY",
        "outputId": "264eaaad-cce3-4262-9394-87e7c1ef7520"
      },
      "execution_count": null,
      "outputs": [
        {
          "output_type": "execute_result",
          "data": {
            "text/plain": [
              "array([[ 1,  2,  3,  4,  5,  6],\n",
              "       [ 7,  8,  9, 10, 11, 12]])"
            ]
          },
          "metadata": {},
          "execution_count": 22
        }
      ]
    },
    {
      "cell_type": "code",
      "source": [
        "np.transpose(matrix2)"
      ],
      "metadata": {
        "colab": {
          "base_uri": "https://localhost:8080/"
        },
        "id": "20FnqwOicfEO",
        "outputId": "14a4e51f-d85e-45b9-a02f-51923508e166"
      },
      "execution_count": null,
      "outputs": [
        {
          "output_type": "execute_result",
          "data": {
            "text/plain": [
              "array([[ 1,  4,  7, 10],\n",
              "       [ 2,  5,  8, 11],\n",
              "       [ 3,  6,  9, 12]])"
            ]
          },
          "metadata": {},
          "execution_count": 23
        }
      ]
    },
    {
      "cell_type": "code",
      "source": [
        "# linear algebra\n",
        "a = np.array([[5,3],[-6,-4]])"
      ],
      "metadata": {
        "id": "5t8vOaMGcq-C"
      },
      "execution_count": null,
      "outputs": []
    },
    {
      "cell_type": "code",
      "source": [
        "from numpy import linalg"
      ],
      "metadata": {
        "id": "6NqVn-jNdRF5"
      },
      "execution_count": null,
      "outputs": []
    },
    {
      "cell_type": "code",
      "source": [
        "print(np.linalg.inv(a))"
      ],
      "metadata": {
        "colab": {
          "base_uri": "https://localhost:8080/"
        },
        "id": "-nt_eqdmdUtX",
        "outputId": "30e1f04e-fec7-4a98-f7ea-b799b749827e"
      },
      "execution_count": null,
      "outputs": [
        {
          "output_type": "stream",
          "name": "stdout",
          "text": [
            "[[ 2.   1.5]\n",
            " [-3.  -2.5]]\n"
          ]
        }
      ]
    },
    {
      "cell_type": "code",
      "source": [
        "#CREATE  A NUMPY ARRAY\n",
        "np.array([1,2,3])"
      ],
      "metadata": {
        "id": "1_JiVHnNdb6c",
        "colab": {
          "base_uri": "https://localhost:8080/"
        },
        "outputId": "c4fd9c91-a0f5-4f89-abf4-6e49015f4b30"
      },
      "execution_count": null,
      "outputs": [
        {
          "output_type": "execute_result",
          "data": {
            "text/plain": [
              "array([1, 2, 3])"
            ]
          },
          "metadata": {},
          "execution_count": 27
        }
      ]
    },
    {
      "cell_type": "markdown",
      "source": [
        "### Post Lab Exercise"
      ],
      "metadata": {
        "id": "lEgvc4Rlf_IX"
      }
    },
    {
      "cell_type": "code",
      "source": [
        "# Q1. Write a program to check whether all elements in an array are non zero\n",
        "arr = np.array([1, 2, 3, 4])"
      ],
      "metadata": {
        "id": "2PaTrXUClOia"
      },
      "execution_count": null,
      "outputs": []
    },
    {
      "cell_type": "code",
      "source": [
        "if np.all(arr):\n",
        "  print(\"All elements are non-zero.\")\n",
        "else:\n",
        "  print(\"There are zero elements in the array.\")"
      ],
      "metadata": {
        "colab": {
          "base_uri": "https://localhost:8080/"
        },
        "id": "7bYKE-ZgeatZ",
        "outputId": "e3a6250e-9e4c-4ee0-c287-caaeead35187"
      },
      "execution_count": null,
      "outputs": [
        {
          "output_type": "stream",
          "name": "stdout",
          "text": [
            "All elements are non-zero.\n"
          ]
        }
      ]
    },
    {
      "cell_type": "code",
      "source": [
        "# Q2. Write a program to create a 2X2 matrix of ones and adding a border around it with zeros\n",
        "arr = np.ones((2, 2))\n",
        "arr = np.pad(arr, pad_width=1, mode='constant', constant_values=0)\n",
        "print(arr)"
      ],
      "metadata": {
        "colab": {
          "base_uri": "https://localhost:8080/"
        },
        "id": "rXDDQiA8evQI",
        "outputId": "1283ee0c-3a75-4496-8711-7a85e71d9ce1"
      },
      "execution_count": null,
      "outputs": [
        {
          "output_type": "stream",
          "name": "stdout",
          "text": [
            "[[0. 0. 0. 0.]\n",
            " [0. 1. 1. 0.]\n",
            " [0. 1. 1. 0.]\n",
            " [0. 0. 0. 0.]]\n"
          ]
        }
      ]
    },
    {
      "cell_type": "code",
      "source": [
        "# Q3. Write a program to multiply a randomly generated 4X3 size matrix to randomly generated 3X5 size matrix.\n",
        "arr1 = np.random.rand(4, 3)\n",
        "arr2 = np.random.rand(3, 5)\n",
        "result = np.dot(arr1, arr2)\n",
        "print(result)"
      ],
      "metadata": {
        "colab": {
          "base_uri": "https://localhost:8080/"
        },
        "id": "NIAl6WFFe95l",
        "outputId": "bc10fab4-4775-4282-f728-e69e7769acc8"
      },
      "execution_count": null,
      "outputs": [
        {
          "output_type": "stream",
          "name": "stdout",
          "text": [
            "[[0.96617513 0.64851337 1.74676008 0.38330398 0.94162276]\n",
            " [0.57020505 0.41072535 1.44034144 0.406619   0.92287457]\n",
            " [1.18768913 0.74887856 2.08435307 0.50929337 1.13934318]\n",
            " [0.89311297 0.55206492 1.57149819 0.40176671 0.87030856]]\n"
          ]
        }
      ]
    },
    {
      "cell_type": "code",
      "source": [
        "# Q4. Write a program to solve the system of equations x0 + 2 * x1 = 1 and 3 *x0 + 5 * x1 = 2. [Hint: Use np.linalg.solve]\n",
        "a = np.array([[1, 2], [3, 5]])\n",
        "b = np.array([1, 2])\n",
        "x = np.linalg.solve(a, b)\n",
        "print(x)"
      ],
      "metadata": {
        "colab": {
          "base_uri": "https://localhost:8080/"
        },
        "id": "S2_Z6ygQfmcu",
        "outputId": "4ed562a1-39c0-4646-8afe-ca38e88fed3c"
      },
      "execution_count": null,
      "outputs": [
        {
          "output_type": "stream",
          "name": "stdout",
          "text": [
            "[-1.  1.]\n"
          ]
        }
      ]
    },
    {
      "cell_type": "code",
      "source": [],
      "metadata": {
        "id": "ILp0s3s2f8xe"
      },
      "execution_count": null,
      "outputs": []
    }
  ]
}